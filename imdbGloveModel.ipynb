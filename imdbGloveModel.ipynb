{
  "nbformat": 4,
  "nbformat_minor": 0,
  "metadata": {
    "colab": {
      "name": "imdbGloveModel.ipynb",
      "provenance": [],
      "collapsed_sections": []
    },
    "kernelspec": {
      "name": "python3",
      "display_name": "Python 3"
    },
    "language_info": {
      "name": "python"
    }
  },
  "cells": [
    {
      "cell_type": "code",
      "metadata": {
        "id": "EfAA_hnrZWAp",
        "colab": {
          "base_uri": "https://localhost:8080/"
        },
        "outputId": "840ea2b6-3447-4d6d-8604-c80b57b3056e"
      },
      "source": [
        "#word level one hot encoding\n",
        "import numpy as np\n",
        "\n",
        "samples = ['The Cat sat on the Mat.','The Dog ate my Homeword']\n",
        "\n",
        "token_index = {} #dictionary used for one-hot endcoding\n",
        "for sample in samples:\n",
        "  for word in sample.split(): #split sentence into words\n",
        "    if word not in token_index:\n",
        "      token_index[word]= len(token_index) + 1 # every word is mapped to unique token index\n",
        "\n",
        "max_length = 10  #only consider first 10 words in each sample\n",
        "results = np.zeros((len(samples), max_length, max(token_index.values()) + 1))\n",
        "for i,sample in enumerate(samples):\n",
        "  for j,word in list(enumerate(sample.split()))[:max_length]:\n",
        "    index = token_index.get(word)\n",
        "    results[i,j,index] = 1\n",
        "    print(word , index) #prints word and its index\n"
      ],
      "execution_count": 19,
      "outputs": [
        {
          "output_type": "stream",
          "text": [
            "The 1\n",
            "Cat 2\n",
            "sat 3\n",
            "on 4\n",
            "the 5\n",
            "Mat. 6\n",
            "The 1\n",
            "Dog 7\n",
            "ate 8\n",
            "my 9\n",
            "Homeword 10\n"
          ],
          "name": "stdout"
        }
      ]
    },
    {
      "cell_type": "code",
      "metadata": {
        "id": "IBqIhbCEZnOk",
        "colab": {
          "base_uri": "https://localhost:8080/"
        },
        "outputId": "d32c9c7e-d284-44d0-8d9f-cad7af5931a9"
      },
      "source": [
        "#character level one hot encoding\n",
        "import string\n",
        "\n",
        "samples = ['The cat sat on the mat.', 'The dog ate my homework.']\n",
        "characters = string.printable # All printable ASCII characters.\n",
        "token_index = dict(zip(characters, range(1, len(characters) + 1)))\n",
        "\n",
        "max_length = 50\n",
        "results = np.zeros((len(samples), max_length, max(token_index.values()) + 1))\n",
        "for i, sample in enumerate(samples):\n",
        "  for j, character in enumerate(sample[:max_length]):\n",
        "    index = token_index.get(character)\n",
        "    results[i, j, index] = 1\n",
        "    print(word , index) #prints word and its index"
      ],
      "execution_count": 28,
      "outputs": [
        {
          "output_type": "stream",
          "text": [
            "Homeword 56\n",
            "Homeword 18\n",
            "Homeword 15\n",
            "Homeword 95\n",
            "Homeword 13\n",
            "Homeword 11\n",
            "Homeword 30\n",
            "Homeword 95\n",
            "Homeword 29\n",
            "Homeword 11\n",
            "Homeword 30\n",
            "Homeword 95\n",
            "Homeword 25\n",
            "Homeword 24\n",
            "Homeword 95\n",
            "Homeword 30\n",
            "Homeword 18\n",
            "Homeword 15\n",
            "Homeword 95\n",
            "Homeword 23\n",
            "Homeword 11\n",
            "Homeword 30\n",
            "Homeword 76\n",
            "Homeword 56\n",
            "Homeword 18\n",
            "Homeword 15\n",
            "Homeword 95\n",
            "Homeword 14\n",
            "Homeword 25\n",
            "Homeword 17\n",
            "Homeword 95\n",
            "Homeword 11\n",
            "Homeword 30\n",
            "Homeword 15\n",
            "Homeword 95\n",
            "Homeword 23\n",
            "Homeword 35\n",
            "Homeword 95\n",
            "Homeword 18\n",
            "Homeword 25\n",
            "Homeword 23\n",
            "Homeword 15\n",
            "Homeword 33\n",
            "Homeword 25\n",
            "Homeword 28\n",
            "Homeword 21\n",
            "Homeword 76\n"
          ],
          "name": "stdout"
        }
      ]
    },
    {
      "cell_type": "code",
      "metadata": {
        "colab": {
          "base_uri": "https://localhost:8080/"
        },
        "id": "DlwxBqcAqqqO",
        "outputId": "2bfc7fdf-cd3f-4c45-9290-410f9a4c4cd7"
      },
      "source": [
        "#word level one hot encoding\n",
        "import numpy as np\n",
        "\n",
        "samples = ['The Cat sat on the Mat.','The Dog ate my Homeword']\n",
        "\n",
        "token_index = {} #dictionary used for one-hot endcoding\n",
        "for sample in samples:\n",
        "  for word in sample.split(): #split sentence into words\n",
        "    if word not in token_index:\n",
        "      token_index[word]= len(token_index) + 1 # every word is mapped to unique token index\n",
        "\n",
        "max_length = 10  #only consider first 10 words in each sample\n",
        "results = np.zeros((len(samples), max_length, max(token_index.values()) + 1))\n",
        "for i,sample in enumerate(samples):\n",
        "  for j,word in list(enumerate(sample.split()))[:max_length]:\n",
        "    index = token_index.get(word)\n",
        "    results[i,j,index] = 1\n",
        "    print(word , index) #prints word and its index"
      ],
      "execution_count": 26,
      "outputs": [
        {
          "output_type": "stream",
          "text": [
            "The 1\n",
            "Cat 2\n",
            "sat 3\n",
            "on 4\n",
            "the 5\n",
            "Mat. 6\n",
            "The 1\n",
            "Dog 7\n",
            "ate 8\n",
            "my 9\n",
            "Homeword 10\n"
          ],
          "name": "stdout"
        }
      ]
    },
    {
      "cell_type": "code",
      "metadata": {
        "id": "hYUWvBZlqpbr"
      },
      "source": [
        "#word level one hot encoding\n",
        "import numpy as np\n",
        "\n",
        "samples = ['The Cat sat on the Mat.','The Dog ate my Homeword']\n",
        "\n",
        "token_index = {} #dictionary used for one-hot endcoding\n",
        "for sample in samples:\n",
        "  for word in sample.split(): #split sentence into words\n",
        "    if word not in token_index:\n",
        "      token_index[word]= len(token_index) + 1 # every word is mapped to unique token index\n",
        "\n",
        "max_length = 10  #only consider first 10 words in each sample\n",
        "results = np.zeros((len(samples), max_length, max(token_index.values()) + 1))\n",
        "for i,sample in enumerate(samples):\n",
        "  for j,word in list(enumerate(sample.split()))[:max_length]:\n",
        "    index = token_index.get(word)\n",
        "    results[i,j,index] = 1"
      ],
      "execution_count": null,
      "outputs": []
    },
    {
      "cell_type": "code",
      "metadata": {
        "id": "F6VOM44LZnzu",
        "colab": {
          "base_uri": "https://localhost:8080/",
          "height": 1000
        },
        "outputId": "d227deac-6e96-4202-f8e4-a185e105d70f"
      },
      "source": [
        "#imdb reviews Model without using GloVe Embeddings\n",
        "from keras.datasets import imdb\n",
        "from keras.preprocessing import sequence\n",
        "from keras.models import Sequential\n",
        "from keras.layers import Dense,Embedding,SimpleRNN\n",
        "import matplotlib.pyplot as plt\n",
        "\n",
        "\n",
        "max_features = 8000\n",
        "maxlen = 350\n",
        "batch_size = 32\n",
        "\n",
        "#preparing imdb data\n",
        "print('Loading Data')\n",
        "(input_train,y_train),(input_test,y_test) = imdb.load_data(num_words = max_features)\n",
        "print(len(input_train),'train_sequences')\n",
        "print(len(input_test),'test_sequences')\n",
        "\n",
        "print('pad sequences(samples x time)')\n",
        "input_train = sequence.pad_sequences(input_train,maxlen=maxlen)\n",
        "input_test = sequence.pad_sequences(input_test,maxlen=maxlen)\n",
        "print('input train shape : ',input_train.shape)\n",
        "print('input test shape : ',input_test.shape)\n",
        "\n",
        "#training model with Embedding and RNN Layer\n",
        "model=Sequential()\n",
        "model.add(Embedding(max_features,32))\n",
        "model.add(SimpleRNN(32))\n",
        "model.add(Dense(1,activation='sigmoid'))\n",
        "\n",
        "model.compile(optimizer='rmsprop',loss='binary_crossentropy', metrics = ['acc'])\n",
        "history = model.fit(input_train,y_train,epochs=12,batch_size=128,validation_split=0.2)\n",
        "\n",
        "#display validation loss and accuracy\n",
        "acc = history.history['acc']\n",
        "val_acc = history.history['val_acc']\n",
        "loss = history.history['loss']\n",
        "val_loss = history.history['val_loss']\n",
        "\n",
        "epochs = range(1,len(acc) + 1)\n",
        "\n",
        "plt.plot(epochs,acc,'bo',label='training acc')\n",
        "plt.plot(epochs,val_acc,'b',label='Validation acc')\n",
        "plt.title('Training and Validation Accuracy')\n",
        "plt.legend()\n",
        "\n",
        "plt.figure()\n",
        "\n",
        "plt.plot(epochs,loss,'bo',label='training loss')\n",
        "plt.plot(epochs,val_loss,'b',label='Validation loss')\n",
        "plt.title('Training and Validation loss')\n",
        "plt.legend()\n",
        "\n",
        "plt.show()"
      ],
      "execution_count": 3,
      "outputs": [
        {
          "output_type": "stream",
          "text": [
            "Loading Data\n",
            "Downloading data from https://storage.googleapis.com/tensorflow/tf-keras-datasets/imdb.npz\n",
            "17465344/17464789 [==============================] - 0s 0us/step\n",
            "17473536/17464789 [==============================] - 0s 0us/step\n"
          ],
          "name": "stdout"
        },
        {
          "output_type": "stream",
          "text": [
            "<string>:6: VisibleDeprecationWarning: Creating an ndarray from ragged nested sequences (which is a list-or-tuple of lists-or-tuples-or ndarrays with different lengths or shapes) is deprecated. If you meant to do this, you must specify 'dtype=object' when creating the ndarray\n",
            "/usr/local/lib/python3.7/dist-packages/keras/datasets/imdb.py:155: VisibleDeprecationWarning: Creating an ndarray from ragged nested sequences (which is a list-or-tuple of lists-or-tuples-or ndarrays with different lengths or shapes) is deprecated. If you meant to do this, you must specify 'dtype=object' when creating the ndarray\n",
            "  x_train, y_train = np.array(xs[:idx]), np.array(labels[:idx])\n",
            "/usr/local/lib/python3.7/dist-packages/keras/datasets/imdb.py:156: VisibleDeprecationWarning: Creating an ndarray from ragged nested sequences (which is a list-or-tuple of lists-or-tuples-or ndarrays with different lengths or shapes) is deprecated. If you meant to do this, you must specify 'dtype=object' when creating the ndarray\n",
            "  x_test, y_test = np.array(xs[idx:]), np.array(labels[idx:])\n"
          ],
          "name": "stderr"
        },
        {
          "output_type": "stream",
          "text": [
            "25000 train_sequences\n",
            "25000 test_sequences\n",
            "pad sequences(samples x time)\n",
            "input train shape :  (25000, 350)\n",
            "input test shape :  (25000, 350)\n",
            "Epoch 1/12\n",
            "157/157 [==============================] - 39s 111ms/step - loss: 0.6734 - acc: 0.5683 - val_loss: 0.4368 - val_acc: 0.8144\n",
            "Epoch 2/12\n",
            "157/157 [==============================] - 17s 105ms/step - loss: 0.4024 - acc: 0.8349 - val_loss: 0.3767 - val_acc: 0.8464\n",
            "Epoch 3/12\n",
            "157/157 [==============================] - 16s 105ms/step - loss: 0.2883 - acc: 0.8908 - val_loss: 0.4589 - val_acc: 0.8106\n",
            "Epoch 4/12\n",
            "157/157 [==============================] - 17s 106ms/step - loss: 0.2321 - acc: 0.9128 - val_loss: 0.3935 - val_acc: 0.8418\n",
            "Epoch 5/12\n",
            "157/157 [==============================] - 16s 105ms/step - loss: 0.1880 - acc: 0.9324 - val_loss: 0.3873 - val_acc: 0.8436\n",
            "Epoch 6/12\n",
            "157/157 [==============================] - 17s 106ms/step - loss: 0.1255 - acc: 0.9569 - val_loss: 0.5329 - val_acc: 0.8166\n",
            "Epoch 7/12\n",
            "157/157 [==============================] - 17s 105ms/step - loss: 0.0910 - acc: 0.9696 - val_loss: 0.4495 - val_acc: 0.8470\n",
            "Epoch 8/12\n",
            "157/157 [==============================] - 17s 106ms/step - loss: 0.0593 - acc: 0.9829 - val_loss: 0.4822 - val_acc: 0.8486\n",
            "Epoch 9/12\n",
            "157/157 [==============================] - 17s 107ms/step - loss: 0.0406 - acc: 0.9882 - val_loss: 0.5762 - val_acc: 0.8200\n",
            "Epoch 10/12\n",
            "157/157 [==============================] - 17s 106ms/step - loss: 0.0308 - acc: 0.9914 - val_loss: 0.5967 - val_acc: 0.8416\n",
            "Epoch 11/12\n",
            "157/157 [==============================] - 17s 106ms/step - loss: 0.0256 - acc: 0.9923 - val_loss: 0.6271 - val_acc: 0.8264\n",
            "Epoch 12/12\n",
            "157/157 [==============================] - 17s 105ms/step - loss: 0.0254 - acc: 0.9930 - val_loss: 0.8301 - val_acc: 0.8296\n"
          ],
          "name": "stdout"
        },
        {
          "output_type": "display_data",
          "data": {
            "image/png": "[encoded data removed]",
            "text/plain": [
              "<Figure size 432x288 with 1 Axes>"
            ]
          },
          "metadata": {
            "tags": [],
            "needs_background": "light"
          }
        },
        {
          "output_type": "display_data",
          "data": {
            "image/png": "[encoded data removed]",
            "text/plain": [
              "<Figure size 432x288 with 1 Axes>"
            ]
          },
          "metadata": {
            "tags": [],
            "needs_background": "light"
          }
        }
      ]
    },
    {
      "cell_type": "code",
      "metadata": {
        "colab": {
          "base_uri": "https://localhost:8080/",
          "height": 1000
        },
        "id": "fOFCcgxbyqCY",
        "outputId": "8f8b18be-5f4c-41fc-e2b3-69f32273edb9"
      },
      "source": [
        "#imdb reviews Model using GloVe Embeddings\n",
        "import os\n",
        "from keras.preprocessing.text import Tokenizer\n",
        "from keras.preprocessing.sequence import pad_sequences\n",
        "from keras.models import Sequential\n",
        "from keras.layers import Embedding,Flatten,Dense\n",
        "import numpy as np\n",
        "import matplotlib.pyplot as plt\n",
        "\n",
        "#classifying review as positive/negative\n",
        "imdb_dir = '/content/drive/MyDrive/aclImdb'\n",
        "train_dir=os.path.join(imdb_dir,'train')\n",
        "\n",
        "labels = []\n",
        "texts = []\n",
        "\n",
        "for label_type in ['neg','pos']:\n",
        "  dir_name = os.path.join(train_dir,label_type)\n",
        "  for fname in os.listdir(dir_name):\n",
        "      if fname[-4:] == '.txt':\n",
        "        f = open(os.path.join(dir_name,fname))\n",
        "        texts.append(f.read())\n",
        "        f.close()\n",
        "        if label_type == 'neg' :\n",
        "          labels.append(0)\n",
        "        else:\n",
        "          labels.append(1)\n",
        "\n",
        "#tokenizing imdb review text\n",
        "maxlen = 140 \n",
        "training_samples = 8000\n",
        "validation_samples = 10000\n",
        "max_words = 10000\n",
        "\n",
        "tokenizer = Tokenizer(num_words=max_words)\n",
        "tokenizer.fit_on_texts(texts)\n",
        "sequences = tokenizer.texts_to_sequences(texts)\n",
        "word_index = tokenizer.word_index\n",
        "print(' %s unique tokens found' %len(word_index))\n",
        "\n",
        "data = pad_sequences(sequences,maxlen=maxlen)\n",
        "\n",
        "labels = np.asarray(labels)\n",
        "print('shape of data tensor:', data.shape)\n",
        "print('shape of label tensor:', data.shape)\n",
        "\n",
        "indices = np.arange(data.shape[0])\n",
        "np.random.shuffle(indices)\n",
        "data = data[indices]\n",
        "labels = labels[indices]\n",
        "\n",
        "x_train = data[:training_samples]\n",
        "y_train = labels[:training_samples]\n",
        "x_val = data[training_samples: training_samples + validation_samples]\n",
        "y_val = labels[training_samples: training_samples + validation_samples]\n",
        "\n",
        "#parsing glove word embeddings\n",
        "glove_dir = '/content/drive/MyDrive/glove.6B'\n",
        "\n",
        "embeddings_index = {}\n",
        "f =open(os.path.join(glove_dir, 'glove.6B.100d.txt'))\n",
        "for line in f:\n",
        "  values = line.split()\n",
        "  word = values[0]\n",
        "  coefs = np. asarray(values[1:], dtype='float32')\n",
        "  embeddings_index[word] = coefs\n",
        "f.close()\n",
        "\n",
        "print('found %s word vectors.' %len(embeddings_index))\n",
        "\n",
        "#creating embeddings matrix\n",
        "embeddings_dim = 100\n",
        "\n",
        "embedding_matrix = np.zeros((max_words,embeddings_dim))\n",
        "for word,i in word_index.items():\n",
        "  if i<max_words:\n",
        "    embedding_vector = embeddings_index.get(word)\n",
        "    if embedding_vector is not None:\n",
        "      embedding_matrix[i] = embedding_vector\n",
        "\n",
        "#Defining Model  ---  creates 4 layer Neural network with first layer as embedding layer\n",
        "model = Sequential()\n",
        "model.add(Embedding(max_words,embeddings_dim,input_length=maxlen))\n",
        "model.add(Flatten())\n",
        "model.add(Dense(32,activation='relu'))\n",
        "model.add(Dense(1,activation= 'sigmoid'))\n",
        "model.summary()\n",
        "\n",
        "#loading pretrained word embeddings in embedding layer\n",
        "model.layers[0].set_weights([embedding_matrix])\n",
        "model.layers[0].trainable = False\n",
        "\n",
        "#Model Training and Evaluation\n",
        "model.compile(optimizer='rmsprop',loss='binary_crossentropy', metrics = ['acc'])\n",
        "history = model.fit(x_train,y_train,epochs=12,batch_size=64,validation_data=(x_val,y_val))\n",
        "model.save_weights('pre_trained_glove_model.h5')\n",
        "\n",
        "#display validation loss and accuracy\n",
        "acc = history.history['acc']\n",
        "val_acc = history.history['val_acc']\n",
        "loss = history.history['loss']\n",
        "val_loss = history.history['val_loss']\n",
        "\n",
        "epochs = range(1,len(acc) + 1)\n",
        "#plots graph for training and validation accuracy\n",
        "plt.plot(epochs,acc,'bo',label='training acc')\n",
        "plt.plot(epochs,val_acc,'b',label='Validation acc')\n",
        "plt.title('Training and Validation Accuracy')\n",
        "plt.legend()\n",
        "\n",
        "plt.figure()\n",
        "#plots graph for training and validation loss\n",
        "plt.plot(epochs,loss,'bo',label='training loss')\n",
        "plt.plot(epochs,val_loss,'b',label='Validation loss')\n",
        "plt.title('Training and Validation loss')\n",
        "plt.legend()\n",
        "\n",
        "plt.show()\n",
        "\n"
      ],
      "execution_count": null,
      "outputs": [
        {
          "output_type": "stream",
          "text": [
            " 66682 unique tokens found\n",
            "shape of data tensor: (13449, 140)\n",
            "shape of label tensor: (13449, 140)\n",
            "found 400000 word vectors.\n",
            "Model: \"sequential_4\"\n",
            "_________________________________________________________________\n",
            "Layer (type)                 Output Shape              Param #   \n",
            "=================================================================\n",
            "embedding_2 (Embedding)      (None, 140, 100)          1000000   \n",
            "_________________________________________________________________\n",
            "flatten_2 (Flatten)          (None, 14000)             0         \n",
            "_________________________________________________________________\n",
            "dense_3 (Dense)              (None, 32)                448032    \n",
            "_________________________________________________________________\n",
            "dense_4 (Dense)              (None, 1)                 33        \n",
            "=================================================================\n",
            "Total params: 1,448,065\n",
            "Trainable params: 1,448,065\n",
            "Non-trainable params: 0\n",
            "_________________________________________________________________\n",
            "Epoch 1/12\n",
            "125/125 [==============================] - 17s 21ms/step - loss: 0.3914 - acc: 0.9008 - val_loss: 0.2371 - val_acc: 0.9290\n",
            "Epoch 2/12\n",
            "125/125 [==============================] - 2s 13ms/step - loss: 0.2125 - acc: 0.9268 - val_loss: 0.2284 - val_acc: 0.9290\n",
            "Epoch 3/12\n",
            "125/125 [==============================] - 2s 13ms/step - loss: 0.1565 - acc: 0.9307 - val_loss: 0.2306 - val_acc: 0.9292\n",
            "Epoch 4/12\n",
            "125/125 [==============================] - 2s 16ms/step - loss: 0.1196 - acc: 0.9428 - val_loss: 0.3166 - val_acc: 0.9290\n",
            "Epoch 5/12\n",
            "125/125 [==============================] - 2s 15ms/step - loss: 0.0945 - acc: 0.9534 - val_loss: 0.3181 - val_acc: 0.9295\n",
            "Epoch 6/12\n",
            "125/125 [==============================] - 2s 13ms/step - loss: 0.0724 - acc: 0.9675 - val_loss: 0.3513 - val_acc: 0.9297\n",
            "Epoch 7/12\n",
            "125/125 [==============================] - 2s 13ms/step - loss: 0.0632 - acc: 0.9784 - val_loss: 0.3912 - val_acc: 0.9295\n",
            "Epoch 8/12\n",
            "125/125 [==============================] - 2s 13ms/step - loss: 0.0533 - acc: 0.9847 - val_loss: 0.3667 - val_acc: 0.9275\n",
            "Epoch 9/12\n",
            "125/125 [==============================] - 2s 13ms/step - loss: 0.0442 - acc: 0.9909 - val_loss: 0.4309 - val_acc: 0.9297\n",
            "Epoch 10/12\n",
            "125/125 [==============================] - 2s 13ms/step - loss: 0.0447 - acc: 0.9908 - val_loss: 0.4079 - val_acc: 0.9262\n",
            "Epoch 11/12\n",
            "125/125 [==============================] - 2s 16ms/step - loss: 0.0374 - acc: 0.9941 - val_loss: 0.4372 - val_acc: 0.9238\n",
            "Epoch 12/12\n",
            "125/125 [==============================] - 2s 13ms/step - loss: 0.0318 - acc: 0.9974 - val_loss: 0.5235 - val_acc: 0.9292\n"
          ],
          "name": "stdout"
        },
        {
          "output_type": "display_data",
          "data": {
            "image/png": "[encoded data removed]",
            "text/plain": [
              "<Figure size 432x288 with 1 Axes>"
            ]
          },
          "metadata": {
            "tags": [],
            "needs_background": "light"
          }
        },
        {
          "output_type": "display_data",
          "data": {
            "image/png": "[encoded data removed]",
            "text/plain": [
              "<Figure size 432x288 with 1 Axes>"
            ]
          },
          "metadata": {
            "tags": [],
            "needs_background": "light"
          }
        }
      ]
    }
  ]
}